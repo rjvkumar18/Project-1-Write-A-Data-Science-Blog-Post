{
 "cells": [
  {
   "cell_type": "markdown",
   "metadata": {},
   "source": [
    "### The CRISP-DM process is followed by using the two notebooks, which involves below steps.\n",
    "\n",
    "* Business Understanding\n",
    "* Data Understanding\n",
    "* Prepare Data\n",
    "* Data Modeling\n",
    "* Evaluate the Results"
   ]
  },
  {
   "cell_type": "markdown",
   "metadata": {},
   "source": [
    "### Business Understanding\n",
    "\n",
    "It is about analysing/asking the questions of interest. Here, I have three questins to be answered with respect to the Airbnb data.\n",
    "\n",
    "* What percentage of listings were available and what percentage were un-available in the year 2016?\n",
    "* What are the different property types and their counts?\n",
    "* What are the main factors that affects the price of a listing?"
   ]
  },
  {
   "cell_type": "code",
   "execution_count": 1,
   "metadata": {},
   "outputs": [],
   "source": [
    "# Required numpy, pandas and other imports\n",
    "\n",
    "import numpy as np\n",
    "import pandas as pd\n",
    "import matplotlib.pyplot as plt\n",
    "%matplotlib inline"
   ]
  },
  {
   "cell_type": "markdown",
   "metadata": {},
   "source": [
    "### Data Understanding\n",
    "\n",
    "### These three datasets below describe the listing activity of homestays in Seattle, WA.\n",
    "\n",
    "* Listings, including full descriptions and average review score\n",
    "* Reviews, including unique id for each reviewer and detailed comments\n",
    "* Calendar, including listing id and the price and availability for that day"
   ]
  },
  {
   "cell_type": "code",
   "execution_count": 2,
   "metadata": {},
   "outputs": [],
   "source": [
    "# Read the Seattle Airbnb open datasets\n",
    "df_listings = pd.read_csv('./seattle/listings.csv')\n",
    "df_reviews = pd.read_csv('./seattle/reviews.csv')\n",
    "df_calendar = pd.read_csv('./seattle/calendar.csv')"
   ]
  },
  {
   "cell_type": "code",
   "execution_count": 3,
   "metadata": {},
   "outputs": [
    {
     "data": {
      "text/plain": [
       "Index(['id', 'listing_url', 'scrape_id', 'last_scraped', 'name', 'summary',\n",
       "       'space', 'description', 'experiences_offered', 'neighborhood_overview',\n",
       "       'notes', 'transit', 'thumbnail_url', 'medium_url', 'picture_url',\n",
       "       'xl_picture_url', 'host_id', 'host_url', 'host_name', 'host_since',\n",
       "       'host_location', 'host_about', 'host_response_time',\n",
       "       'host_response_rate', 'host_acceptance_rate', 'host_is_superhost',\n",
       "       'host_thumbnail_url', 'host_picture_url', 'host_neighbourhood',\n",
       "       'host_listings_count', 'host_total_listings_count',\n",
       "       'host_verifications', 'host_has_profile_pic', 'host_identity_verified',\n",
       "       'street', 'neighbourhood', 'neighbourhood_cleansed',\n",
       "       'neighbourhood_group_cleansed', 'city', 'state', 'zipcode', 'market',\n",
       "       'smart_location', 'country_code', 'country', 'latitude', 'longitude',\n",
       "       'is_location_exact', 'property_type', 'room_type', 'accommodates',\n",
       "       'bathrooms', 'bedrooms', 'beds', 'bed_type', 'amenities', 'square_feet',\n",
       "       'price', 'weekly_price', 'monthly_price', 'security_deposit',\n",
       "       'cleaning_fee', 'guests_included', 'extra_people', 'minimum_nights',\n",
       "       'maximum_nights', 'calendar_updated', 'has_availability',\n",
       "       'availability_30', 'availability_60', 'availability_90',\n",
       "       'availability_365', 'calendar_last_scraped', 'number_of_reviews',\n",
       "       'first_review', 'last_review', 'review_scores_rating',\n",
       "       'review_scores_accuracy', 'review_scores_cleanliness',\n",
       "       'review_scores_checkin', 'review_scores_communication',\n",
       "       'review_scores_location', 'review_scores_value', 'requires_license',\n",
       "       'license', 'jurisdiction_names', 'instant_bookable',\n",
       "       'cancellation_policy', 'require_guest_profile_picture',\n",
       "       'require_guest_phone_verification', 'calculated_host_listings_count',\n",
       "       'reviews_per_month'],\n",
       "      dtype='object')"
      ]
     },
     "execution_count": 3,
     "metadata": {},
     "output_type": "execute_result"
    }
   ],
   "source": [
    "# Columns of the listing dataset\n",
    "\n",
    "df_listings.columns"
   ]
  },
  {
   "cell_type": "code",
   "execution_count": 4,
   "metadata": {},
   "outputs": [
    {
     "data": {
      "text/plain": [
       "Index(['listing_id', 'date', 'available', 'price'], dtype='object')"
      ]
     },
     "execution_count": 4,
     "metadata": {},
     "output_type": "execute_result"
    }
   ],
   "source": [
    "# Columns of the calendar datset\n",
    "\n",
    "df_calendar.columns"
   ]
  },
  {
   "cell_type": "markdown",
   "metadata": {},
   "source": [
    "### Question 1\n",
    "\n",
    "* What percentage of listings were available and what percentage were un-available in the year 2016?"
   ]
  },
  {
   "cell_type": "code",
   "execution_count": 5,
   "metadata": {},
   "outputs": [
    {
     "name": "stdout",
     "output_type": "stream",
     "text": [
      "67.06% of listings were available and 32.94% were un-available in the year 2016\n"
     ]
    }
   ],
   "source": [
    "# Available and un-available percentage of listings in the yer 2016\n",
    "\n",
    "available_prop = df_calendar[(df_calendar['available']=='t')].shape[0]/df_calendar.shape[0]\n",
    "un_available_prop = df_calendar[(df_calendar['available']=='f')].shape[0]/df_calendar.shape[0]\n",
    "\n",
    "print(\"{:.2f}% of listings were available and {:.2f}% were un-available in the year 2016\".format(available_prop * 100, un_available_prop * 100))"
   ]
  },
  {
   "cell_type": "code",
   "execution_count": 6,
   "metadata": {},
   "outputs": [
    {
     "data": {
      "image/png": "[encoded data removed]",
      "text/plain": [
       "<Figure size 720x360 with 1 Axes>"
      ]
     },
     "metadata": {
      "needs_background": "light"
     },
     "output_type": "display_data"
    }
   ],
   "source": [
    "availability = ['Available', 'Un-Available']\n",
    "availability_pcnt = [available_prop * 100, un_available_prop * 100]\n",
    "\n",
    "plt.figure(figsize=(10,5))\n",
    "plt.ylabel('Percentage of listings')\n",
    "plt.xlabel('Availability')\n",
    "plt.title('The availabilty and Un-availability of listings')\n",
    "plt.bar(availability,availability_pcnt)\n",
    "\n",
    "plt.savefig('The availabilty and Un-availability of listings')"
   ]
  },
  {
   "cell_type": "markdown",
   "metadata": {},
   "source": [
    "### Question 2\n",
    "\n",
    "* What are the different property types and their counts?"
   ]
  },
  {
   "cell_type": "code",
   "execution_count": 7,
   "metadata": {
    "scrolled": false
   },
   "outputs": [
    {
     "data": {
      "image/png": "[encoded data removed]",
      "text/plain": [
       "<Figure size 720x360 with 1 Axes>"
      ]
     },
     "metadata": {
      "needs_background": "light"
     },
     "output_type": "display_data"
    }
   ],
   "source": [
    "# Different property types and their counts\n",
    "\n",
    "property_list = df_listings['property_type'].value_counts().index.tolist()\n",
    "\n",
    "property_count = []\n",
    "for i in property_list:\n",
    "    property_count.append(df_listings['property_type'].value_counts()[i])\n",
    "\n",
    "plt.figure(figsize=(10,5))\n",
    "y_pos = np.arange(len(property_list))\n",
    "plt.barh(y_pos, property_count, align='center', alpha=1.0)\n",
    "plt.yticks(y_pos, property_list)\n",
    "plt.xlabel('Count')\n",
    "plt.title('Property type count')\n",
    "plt.savefig('The property type and their counts');"
   ]
  },
  {
   "cell_type": "code",
   "execution_count": 8,
   "metadata": {},
   "outputs": [],
   "source": [
    "# Question 3 is contained in the notebook Seattle_Listing_Price_Prediction.ipynb"
   ]
  },
  {
   "cell_type": "code",
   "execution_count": null,
   "metadata": {},
   "outputs": [],
   "source": []
  }
 ],
 "metadata": {
  "kernelspec": {
   "display_name": "Python 3",
   "language": "python",
   "name": "python3"
  },
  "language_info": {
   "codemirror_mode": {
    "name": "ipython",
    "version": 3
   },
   "file_extension": ".py",
   "mimetype": "text/x-python",
   "name": "python",
   "nbconvert_exporter": "python",
   "pygments_lexer": "ipython3",
   "version": "3.7.4"
  }
 },
 "nbformat": 4,
 "nbformat_minor": 2
}
